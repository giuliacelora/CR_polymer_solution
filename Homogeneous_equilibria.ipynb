{
 "cells": [
  {
   "cell_type": "code",
   "execution_count": 28,
   "id": "ea001fbd",
   "metadata": {},
   "outputs": [],
   "source": [
    "################## upload packages needed ###########################\n",
    "using DelimitedFiles\n",
    "include(\"Function_distribution.jl\")\n",
    "import .Module_distribution\n"
   ]
  },
  {
   "cell_type": "markdown",
   "id": "61212663",
   "metadata": {},
   "source": [
    "**Code used to generate the data plotted in Figure 4 of the paper \"Counterion-controlled phase equilibria in a  charge-regulated polymer solution\"**\n",
    "\n",
    "We compute equilibrium states as a function of the solution composition: \n",
    "- φP: volume fraction of polymer\n",
    "- φCL: volume fraction of counter-ions\n",
    "- φH: volume fraction of co-ions (H+)\n",
    "- Q: mean charge distribution\n",
    "- S: standard deviation charge distribution\n",
    "- output: matrix [φP φCL φH(φP,φCL) Q(φP,φCL) S(φP,φCL)] (columns' header)\n",
    "\n",
    "Other parameters:\n",
    "- α,η: charge regulation parameters\n",
    "- χ: Flory--Huggins parameter\n",
    "- Nz: number of monomers on the polymer chain with binding site \n",
    "- Nmono: total number of monomers on the polymer chain"
   ]
  },
  {
   "cell_type": "code",
   "execution_count": 42,
   "id": "03e9c333",
   "metadata": {},
   "outputs": [
    {
     "name": "stdout",
     "output_type": "stream",
     "text": [
      "solving non-linear problem\n",
      "\n",
      "preparing output\n",
      "\n",
      "done\n",
      "\n"
     ]
    }
   ],
   "source": [
    "par_mod =(η=-2.,α=-6.5,Nmono=100,χ=0.95,ϕP=0.005,ϕCL=0.0075,Nz=20); # list model parameters\n",
    "\n",
    "output=Module_distribution.compute_homogeneous_equilibria(par_mod); # main computing equilibria as a function of φP and φCL"
   ]
  },
  {
   "cell_type": "code",
   "execution_count": 43,
   "id": "9ca711c7",
   "metadata": {},
   "outputs": [],
   "source": [
    "######################### SAVE the SOLUTION ###################\n",
    "dir=\"homogeneous_equilibria/\"\n",
    "try\n",
    "    mkdir(dir)\n",
    "catch\n",
    "    println(\"Folder already exists\")\n",
    "end\n",
    "\n",
    "open(dir*\"solution_eta_\"*string(par_mod.η)*\"_chi_\"*string(par_mod.χ)*\"alpha_\"*string(par_mod.α)*\".txt\",\"w\") do io\n",
    "    writedlm(io,output,',');\n",
    "end"
   ]
  },
  {
   "cell_type": "code",
   "execution_count": null,
   "id": "e5bdfc6f",
   "metadata": {},
   "outputs": [],
   "source": []
  }
 ],
 "metadata": {
  "kernelspec": {
   "display_name": "Julia 1.8.1",
   "language": "julia",
   "name": "julia-1.8"
  },
  "language_info": {
   "file_extension": ".jl",
   "mimetype": "application/julia",
   "name": "julia",
   "version": "1.8.1"
  }
 },
 "nbformat": 4,
 "nbformat_minor": 5
}
